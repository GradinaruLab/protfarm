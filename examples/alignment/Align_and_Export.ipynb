{
 "cells": [
  {
   "cell_type": "code",
   "execution_count": null,
   "metadata": {},
   "outputs": [],
   "source": [
    "import re\n",
    "\n",
    "from protfarm.workspace import Workspace\n",
    "from protfarm.workspace import Database\n",
    "from protfarm.workspace.Library import Library\n",
    "from protfarm.workspace.Template import Template\n",
    "from protfarm.workspace.Alignment import Alignment\n",
    "from protfarm.analysis.Analysis_Set import Analysis_Set\n"
   ]
  },
  {
   "cell_type": "code",
   "execution_count": null,
   "metadata": {},
   "outputs": [],
   "source": [
    "EXPERIMENT_NAME = \"20180807_588_589_Insertion_Embryo\"\n",
    "TEMPLATE_SEQUENCE = \"XXXXXXACCACCAGAGTGCCCAANNNNNNNNNNNNNNNNNNNNNGCACAGGCGCAGACCGGTTGGGTTCAAAACAGATCGXXXXXXXXXXXXXXXXXXXX\"\n",
    "TEMPLATE_NAME = \"588-589 7-mer NNN Insertion Position 24\"\n",
    "VARIANT_QUALITY_THRESHOLD = 30\n",
    "MISMATCH_QUALITY_THRESHOLD = 20\n",
    "EXPORT_FILE_PATH = \"embryo_round_2_counts_no_threshold.csv\"\n",
    "STARTING_SAMPLE = \"Embryo_round_2_virus\""
   ]
  },
  {
   "cell_type": "code",
   "execution_count": null,
   "metadata": {},
   "outputs": [],
   "source": [
    "Workspace.set_experiment(EXPERIMENT_NAME)\n",
    "samples = Database.get_libraries()"
   ]
  },
  {
   "cell_type": "code",
   "execution_count": null,
   "metadata": {},
   "outputs": [],
   "source": [
    "template = Template(TEMPLATE_SEQUENCE, name=TEMPLATE_NAME)"
   ]
  },
  {
   "cell_type": "code",
   "execution_count": null,
   "metadata": {},
   "outputs": [],
   "source": [
    "sample_templates = {}\n",
    "\n",
    "for sample in samples:\n",
    "    sample_templates[sample.id] = template.id"
   ]
  },
  {
   "cell_type": "code",
   "execution_count": null,
   "metadata": {},
   "outputs": [],
   "source": [
    "alignment_parameters = {\n",
    "    \"mismatch_quality_threshold\": MISMATCH_QUALITY_THRESHOLD,\n",
    "    \"variant_sequence_quality_threshold\": VARIANT_QUALITY_THRESHOLD\n",
    "}"
   ]
  },
  {
   "cell_type": "code",
   "execution_count": null,
   "metadata": {},
   "outputs": [],
   "source": [
    "alignment = Alignment(\"Perfect_Match_Aligner\", parameters=alignment_parameters, library_templates=sample_templates)"
   ]
  },
  {
   "cell_type": "code",
   "execution_count": null,
   "metadata": {},
   "outputs": [],
   "source": [
    "Workspace.align_all(print)"
   ]
  },
  {
   "cell_type": "code",
   "execution_count": null,
   "metadata": {},
   "outputs": [],
   "source": [
    "Workspace.set_experiment(EXPERIMENT_NAME)\n",
    "alignment = Database.get_alignment(0)\n",
    "Workspace.set_active_alignment(alignment)\n",
    "\n",
    "analysis_set = Analysis_Set()\n",
    "for sample_name, library in virus_farm_libraries.items():\n",
    "    analysis_set.add_sample(sample_name)"
   ]
  },
  {
   "cell_type": "code",
   "execution_count": null,
   "metadata": {},
   "outputs": [],
   "source": [
    "analysis_set.export_enrichment_specificity(\n",
    "    EXPORT_FILE_PATH,\n",
    "    STARTING_SAMPLE,\n",
    "    libraries_to_compare_names=None,\n",
    "    count_threshold=0)"
   ]
  },
  {
   "cell_type": "code",
   "execution_count": null,
   "metadata": {},
   "outputs": [],
   "source": [
    "def print_update(update)\n",
    "    print(update)\n",
    "\n",
    "from protfarm.workspace.Template import Template\n",
    "from protfarm.workspace.Alignment import Alignment\n",
    "from protfarm.workspace import Database\n",
    "\n",
    "# Alignment parameters\n",
    "TEMPLATE_SEQUENCE = \"XXXXXXACCACCAGAGTGCCCAANNNNNNNNNNNNNNNNNNNNNGCACAGGCGCAGACCGGTTGGGTTCAAAACAGATCGXXXXXXXXXXXXXXXXXXXX\"\n",
    "TEMPLATE_NAME = \"588-589 7-mer NNN Insertion Position 24\"\n",
    "VARIANT_QUALITY_THRESHOLD = 30\n",
    "MISMATCH_QUALITY_THRESHOLD = 20\n",
    "\n",
    "# Create the template\n",
    "template = Template(TEMPLATE_SEQUENCE, name=TEMPLATE_NAME)\n",
    "\n",
    "# We want to align all samples\n",
    "sample_templates = {}\n",
    "\n",
    "for sample in samples:\n",
    "    sample_templates[sample.id] = template.id\n",
    "    \n",
    "\n",
    "# Initialize alignment parameters\n",
    "alignment_parameters = {\n",
    "    \"mismatch_quality_threshold\": MISMATCH_QUALITY_THRESHOLD,\n",
    "    \"variant_sequence_quality_threshold\": VARIANT_QUALITY_THRESHOLD\n",
    "}\n",
    "\n",
    "# Create the alignment\n",
    "alignment = Alignment(\"Perfect_Match_Aligner\", parameters=alignment_parameters, library_templates=sample_templates)\n",
    "\n",
    "# Align\n",
    "Workspace.align_all(print_update)"
   ]
  }
 ],
 "metadata": {
  "kernelspec": {
   "display_name": "Python 3",
   "language": "python",
   "name": "python3"
  },
  "language_info": {
   "codemirror_mode": {
    "name": "ipython",
    "version": 3
   },
   "file_extension": ".py",
   "mimetype": "text/x-python",
   "name": "python",
   "nbconvert_exporter": "python",
   "pygments_lexer": "ipython3",
   "version": "3.6.7"
  }
 },
 "nbformat": 4,
 "nbformat_minor": 2
}
