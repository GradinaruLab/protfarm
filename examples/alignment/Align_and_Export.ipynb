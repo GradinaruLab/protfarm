{
 "cells": [
  {
   "cell_type": "code",
   "execution_count": null,
   "metadata": {},
   "outputs": [],
   "source": [
    "import sys\n",
    "sys.path.append(\"..\")\n",
    "\n",
    "import re\n",
    "\n",
    "from workspace import Workspace\n",
    "from workspace import Database\n",
    "from workspace.Library import Library\n",
    "from workspace.Template import Template\n",
    "from workspace.Alignment import Alignment\n",
    "from analysis.Analysis_Set import Analysis_Set\n",
    "\n",
    "from airtable import Airtable"
   ]
  },
  {
   "cell_type": "code",
   "execution_count": null,
   "metadata": {},
   "outputs": [],
   "source": [
    "EXPERIMENT_NAME = \"20180807_588_589_Insertion_Embryo\"\n",
    "TEMPLATE_SEQUENCE = \"XXXXXXACCACCAGAGTGCCCAANNNNNNNNNNNNNNNNNNNNNGCACAGGCGCAGACCGGTTGGGTTCAAAACAGATCGXXXXXXXXXXXXXXXXXXXX\"\n",
    "TEMPLATE_NAME = \"588-589 7-mer NNN Insertion Position 24\"\n",
    "VARIANT_QUALITY_THRESHOLD = 30\n",
    "MISMATCH_QUALITY_THRESHOLD = 20\n",
    "EXPORT_FILE_PATH = \"embryo_round_2_counts_no_threshold.csv\"\n",
    "STARTING_SAMPLE = \"Embryo_round_2_virus\""
   ]
  },
  {
   "cell_type": "code",
   "execution_count": null,
   "metadata": {},
   "outputs": [],
   "source": [
    "Workspace.set_experiment(EXPERIMENT_NAME)\n",
    "samples = Database.get_libraries()"
   ]
  },
  {
   "cell_type": "code",
   "execution_count": null,
   "metadata": {},
   "outputs": [],
   "source": [
    "template = Template(TEMPLATE_SEQUENCE, name=TEMPLATE_NAME)"
   ]
  },
  {
   "cell_type": "code",
   "execution_count": null,
   "metadata": {},
   "outputs": [],
   "source": [
    "sample_templates = {}\n",
    "\n",
    "for sample in samples:\n",
    "    sample_templates[sample.id] = template.id"
   ]
  },
  {
   "cell_type": "code",
   "execution_count": null,
   "metadata": {},
   "outputs": [],
   "source": [
    "alignment_parameters = {\n",
    "    \"mismatch_quality_threshold\": MISMATCH_QUALITY_THRESHOLD,\n",
    "    \"variant_sequence_quality_threshold\": VARIANT_QUALITY_THRESHOLD\n",
    "}"
   ]
  },
  {
   "cell_type": "code",
   "execution_count": null,
   "metadata": {},
   "outputs": [],
   "source": [
    "alignment = Alignment(\"Perfect_Match_Aligner\", parameters=alignment_parameters, library_templates=sample_templates)"
   ]
  },
  {
   "cell_type": "code",
   "execution_count": null,
   "metadata": {},
   "outputs": [],
   "source": [
    "Workspace.align_all(print)"
   ]
  },
  {
   "cell_type": "code",
   "execution_count": null,
   "metadata": {},
   "outputs": [],
   "source": [
    "Workspace.set_experiment(EXPERIMENT_NAME)\n",
    "alignment = Database.get_alignment(0)\n",
    "Workspace.set_active_alignment(alignment)\n",
    "\n",
    "analysis_set = Analysis_Set()\n",
    "for sample_name, library in virus_farm_libraries.items():\n",
    "    analysis_set.add_sample(sample_name)"
   ]
  },
  {
   "cell_type": "code",
   "execution_count": null,
   "metadata": {},
   "outputs": [],
   "source": [
    "analysis_set.export_enrichment_specificity(\n",
    "    EXPORT_FILE_PATH,\n",
    "    STARTING_SAMPLE,\n",
    "    libraries_to_compare_names=None,\n",
    "    count_threshold=0)"
   ]
  }
 ],
 "metadata": {
  "kernelspec": {
   "display_name": "Python 3",
   "language": "python",
   "name": "python3"
  },
  "language_info": {
   "codemirror_mode": {
    "name": "ipython",
    "version": 3
   },
   "file_extension": ".py",
   "mimetype": "text/x-python",
   "name": "python",
   "nbconvert_exporter": "python",
   "pygments_lexer": "ipython3",
   "version": "3.6.5"
  }
 },
 "nbformat": 4,
 "nbformat_minor": 2
}
