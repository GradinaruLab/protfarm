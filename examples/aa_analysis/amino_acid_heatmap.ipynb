{
 "cells": [
  {
   "cell_type": "code",
   "execution_count": null,
   "metadata": {},
   "outputs": [],
   "source": [
    "import sys\n",
    "sys.path.append(\"..\")\n",
    "\n",
    "from scipy import stats\n",
    "from analysis.Analysis_Set import Analysis_Set\n",
    "from workspace import Database as db\n",
    "from workspace import Workspace as ws\n",
    "from analysis.Sequence_Library import Sequence_Library\n",
    "\n",
    "from analysis import statistics as virus_stats\n",
    "from analysis import amino_acids as AA_analysis\n",
    "from analysis import plotting as virus_plotting\n",
    "\n",
    "import pandas\n",
    "from plotly import offline as plotly_offline\n",
    "plotly_offline.init_notebook_mode(connected=True)"
   ]
  },
  {
   "cell_type": "code",
   "execution_count": null,
   "metadata": {},
   "outputs": [],
   "source": [
    "EXPERIMENT_NAME = \"20171220_452_458_Substitution_Panel\"\n",
    "SAMPLE_NAME = \"REB_Starting_Virus\"\n",
    "COUNT_THRESHOLD = 300"
   ]
  },
  {
   "cell_type": "code",
   "execution_count": null,
   "metadata": {},
   "outputs": [],
   "source": [
    "ws.set_experiment(EXPERIMENT_NAME)\n",
    "ws.set_active_alignment(db.get_alignments()[0])"
   ]
  },
  {
   "cell_type": "code",
   "execution_count": null,
   "metadata": {},
   "outputs": [],
   "source": [
    "sample = db.get_library(SAMPLE_NAME)"
   ]
  },
  {
   "cell_type": "code",
   "execution_count": null,
   "metadata": {},
   "outputs": [],
   "source": [
    "sequence_reads = Sequence_Library(sample)\n",
    "sequence_counts = sequence_reads.get_sequence_counts(by_amino_acid=True, count_threshold=COUNT_THRESHOLD, filter_invalid=True)\n",
    "sequence_counts = pandas.DataFrame.from_dict(sequence_counts, orient=\"index\")"
   ]
  },
  {
   "cell_type": "code",
   "execution_count": null,
   "metadata": {},
   "outputs": [],
   "source": [
    "amino_acid_counts_by_position = AA_analysis.get_amino_acid_counts_by_position(sequence_counts.index)\n",
    "amino_acid_biases = AA_analysis.get_amino_acid_codon_biases([\"NNKNNKNNKNNKNNKNNKNNK\"])"
   ]
  },
  {
   "cell_type": "code",
   "execution_count": null,
   "metadata": {},
   "outputs": [],
   "source": [
    "p_values, z_scores = virus_stats.get_significance_of_amino_acid_ratios(\n",
    "    amino_acid_counts_by_position,\n",
    "    amino_acid_biases,\n",
    "    multiple_comparison_correction=True,\n",
    "    test_type=virus_stats.Test_Type.STANDARDIZATION)\n",
    "virus_plotting.plot_significance_z_scores(z_scores.drop(\"#\"), interactive=True)"
   ]
  },
  {
   "cell_type": "code",
   "execution_count": null,
   "metadata": {},
   "outputs": [],
   "source": [
    "p_values, z_scores = virus_stats.get_significance_of_amino_acid_ratios(\n",
    "    amino_acid_counts_by_position,\n",
    "    amino_acid_biases,\n",
    "    test_type=virus_stats.Test_Type.BINOMIAL_NORMAL_APPROXIMATION)\n",
    "virus_plotting.plot_significance_z_scores(z_scores.drop(\"#\"), interactive=True)"
   ]
  },
  {
   "cell_type": "code",
   "execution_count": null,
   "metadata": {},
   "outputs": [],
   "source": []
  }
 ],
 "metadata": {
  "kernelspec": {
   "display_name": "Python 3",
   "language": "python",
   "name": "python3"
  },
  "language_info": {
   "codemirror_mode": {
    "name": "ipython",
    "version": 3
   },
   "file_extension": ".py",
   "mimetype": "text/x-python",
   "name": "python",
   "nbconvert_exporter": "python",
   "pygments_lexer": "ipython3",
   "version": "3.6.5"
  }
 },
 "nbformat": 4,
 "nbformat_minor": 2
}
