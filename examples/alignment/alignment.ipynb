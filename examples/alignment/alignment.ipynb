{
 "cells": [
  {
   "cell_type": "markdown",
   "metadata": {},
   "source": [
    "### Alignment\n",
    "\n",
    "An example of how to align samples in a workspace. This notebook assumes that you have initialized the workspace in the workspace/workspace_initialization example."
   ]
  },
  {
   "cell_type": "code",
   "execution_count": null,
   "metadata": {},
   "outputs": [],
   "source": [
    "import os\n",
    "\n",
    "from protfarm.workspace import Workspace as ws\n",
    "from protfarm.workspace import Database as db\n",
    "from protfarm.workspace import Template\n",
    "from protfarm.workspace import Alignment"
   ]
  },
  {
   "cell_type": "code",
   "execution_count": null,
   "metadata": {},
   "outputs": [],
   "source": [
    "# The data path represents the location of all protein engineering sequencing experiments\n",
    "DATA_PATH = os.path.join(\"..\", \"example_data\")\n",
    "\n",
    "# Each experiment is given its own name and subdirectory in the DATA PATH\n",
    "# An experiment is a group of samples, all using the same variant region\n",
    "EXPERIMENT_NAME = \"demo\"\n",
    "\n",
    "TEMPLATE_SEQUENCE = \"XXXXXXXXXXXXXXXXXXXXXXXXXXXXXXXXXXXXXXXGAGTGCCCAANNKNNKNNKNNKNNKNNKNNKGCACAGGCGCXXXXXXXXXXXXXXXXXXXX\"\n",
    "TEMPLATE_NAME = \"7-mer NNK Insertion Position 56\"\n",
    "\n",
    "VARIANT_QUALITY_THRESHOLD = 30\n",
    "MISMATCH_QUALITY_THRESHOLD = 20\n",
    "\n",
    "# Currently, only Perfect_Match_Aligner is functional\n",
    "ALIGNMENT_METHOD = \"Perfect_Match_Aligner\""
   ]
  },
  {
   "cell_type": "code",
   "execution_count": null,
   "metadata": {},
   "outputs": [],
   "source": [
    "# Set the data and experiment path\n",
    "ws.set_data_path(DATA_PATH)\n",
    "ws.set_experiment(EXPERIMENT_NAME)"
   ]
  },
  {
   "cell_type": "code",
   "execution_count": null,
   "metadata": {},
   "outputs": [],
   "source": [
    "try:\n",
    "    template = Template(TEMPLATE_SEQUENCE, name=TEMPLATE_NAME)\n",
    "except Exception:\n",
    "    template = db.get_template_by_name(TEMPLATE_NAME)"
   ]
  },
  {
   "cell_type": "code",
   "execution_count": null,
   "metadata": {},
   "outputs": [],
   "source": [
    "sample_templates = {}\n",
    "\n",
    "for sample in db.get_samples():\n",
    "    sample_templates[sample.id] = template.id\n",
    "\n",
    "alignment_parameters = {\n",
    "    \"mismatch_quality_threshold\": MISMATCH_QUALITY_THRESHOLD,\n",
    "    \"variant_sequence_quality_threshold\": VARIANT_QUALITY_THRESHOLD\n",
    "}\n",
    "\n",
    "try:\n",
    "    alignment = Alignment(ALIGNMENT_METHOD,\n",
    "                          parameters=alignment_parameters,\n",
    "                          library_templates=sample_templates)\n",
    "except ValueError:\n",
    "    alignment = db.get_alignment_by_parameters(ALIGNMENT_METHOD, alignment_parameters, sample_templates)"
   ]
  },
  {
   "cell_type": "code",
   "execution_count": null,
   "metadata": {},
   "outputs": [],
   "source": [
    "# Align all will align all unaligned samples\n",
    "\n",
    "ws.align_all(print)"
   ]
  },
  {
   "cell_type": "code",
   "execution_count": null,
   "metadata": {},
   "outputs": [],
   "source": [
    "# Get the results of this alignment and print the alignment statistics\n",
    "\n",
    "alignment = db.get_alignments()[0]\n",
    "\n",
    "for sample_id in alignment.statistics:\n",
    "    \n",
    "    sample_name = db.get_library_by_id(sample_id).name\n",
    "    \n",
    "    print(\"Alignment statistics for '%s'\" % sample_name)\n",
    "    \n",
    "    for key, value in alignment.statistics[sample_id].items():\n",
    "    \n",
    "        print(\"%s: %.4f\" % (key, value))\n",
    "        \n",
    "    print(\"\")"
   ]
  },
  {
   "cell_type": "code",
   "execution_count": null,
   "metadata": {},
   "outputs": [],
   "source": [
    "# This exports all alignment statistics to a file alignment_statistics.csv in the export folder\n",
    "ws.export_alignment_statistics()"
   ]
  }
 ],
 "metadata": {
  "kernelspec": {
   "display_name": "Python 3",
   "language": "python",
   "name": "python3"
  },
  "language_info": {
   "codemirror_mode": {
    "name": "ipython",
    "version": 3
   },
   "file_extension": ".py",
   "mimetype": "text/x-python",
   "name": "python",
   "nbconvert_exporter": "python",
   "pygments_lexer": "ipython3",
   "version": "3.6.7"
  }
 },
 "nbformat": 4,
 "nbformat_minor": 2
}
