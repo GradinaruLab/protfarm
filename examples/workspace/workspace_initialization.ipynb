{
 "cells": [
  {
   "cell_type": "code",
   "execution_count": null,
   "metadata": {},
   "outputs": [],
   "source": [
    "import os\n",
    "\n",
    "from pepars.fileio import fileio\n",
    "\n",
    "from protfarm.workspace import Workspace as ws\n",
    "from protfarm.workspace import Database as db\n",
    "from protfarm.workspace import FASTQ_File as FASTQ_File\n",
    "from protfarm.workspace import Library"
   ]
  },
  {
   "cell_type": "code",
   "execution_count": null,
   "metadata": {},
   "outputs": [],
   "source": [
    "# The data path represents the location of all protein engineering sequencing experiments\n",
    "DATA_PATH = os.path.join(\"..\", \"example_data\")\n",
    "\n",
    "# Each experiment is given its own name and subdirectory in the DATA PATH\n",
    "# An experiment is a group of samples, all using the same variant region\n",
    "EXPERIMENT_NAME = \"demo\"\n",
    "\n",
    "# A map of samples and the FASTQ files associated with each - this can be entered manually or read\n",
    "# in from an Excel sheet\n",
    "SAMPLE_FASTQ_FILES = {\n",
    "    \"sample_1\": [\"sample_1.fastq.gz\"],\n",
    "    \"sample_2\": [\"sample_2.fastq.gz\"]\n",
    "}"
   ]
  },
  {
   "cell_type": "code",
   "execution_count": null,
   "metadata": {},
   "outputs": [],
   "source": [
    "# Set the data and experiment path. If this experiment doesn't exist already, an empty one will be created\n",
    "ws.set_data_path(DATA_PATH)\n",
    "ws.set_experiment(EXPERIMENT_NAME)"
   ]
  },
  {
   "cell_type": "code",
   "execution_count": null,
   "metadata": {},
   "outputs": [],
   "source": [
    "# Seed our experiment with some FASTQ files to download\n",
    "REMOTE_FILES = [\n",
    "    (\"https://caltech.box.com/shared/static/5a1zi1pawtn1x15tupr1pub01wqa5kfg.gz\", \"sample_1.fastq.gz\"),\n",
    "    (\"https://caltech.box.com/shared/static/fvu4uq3bjuur2hufjlzit0ijt3m1ji2i.gz\", \"sample_2.fastq.gz\")\n",
    "]\n",
    "\n",
    "for remote_file_URL, local_file_name in REMOTE_FILES:\n",
    "    \n",
    "    # FASTQ files go in the raw data folder\n",
    "    FASTQ_file_path = ws.get_raw_data_path(local_file_name)\n",
    "\n",
    "    # This downloads the file, but only if it doesn't already exist\n",
    "    fileio.download_remote_file(remote_file_URL, FASTQ_file_path)\n",
    "\n",
    "# Reload the workspace to get the newly added FASTQ file\n",
    "ws.set_experiment(EXPERIMENT_NAME)"
   ]
  },
  {
   "cell_type": "code",
   "execution_count": null,
   "metadata": {},
   "outputs": [],
   "source": [
    "# Create libraries and associate FASTQ files for each of them\n",
    "for sample_name, FASTQ_file_names in SAMPLE_FASTQ_FILES.items():\n",
    "    \n",
    "    try:\n",
    "        library = Library(sample_name)\n",
    "    except Exception as e:\n",
    "        library = db.get_library(sample_name)\n",
    "\n",
    "    for FASTQ_file_name in FASTQ_file_names:\n",
    "        library.add_file(FASTQ_file_name)"
   ]
  },
  {
   "cell_type": "code",
   "execution_count": null,
   "metadata": {},
   "outputs": [],
   "source": [
    "# Make sure all samples are appropriately registered\n",
    "print(\"\\n\".join([\"%s: %s\" % (sample.name, sample.fastq_files) for sample in db.get_samples()]))"
   ]
  }
 ],
 "metadata": {
  "kernelspec": {
   "display_name": "Python 3",
   "language": "python",
   "name": "python3"
  },
  "language_info": {
   "codemirror_mode": {
    "name": "ipython",
    "version": 3
   },
   "file_extension": ".py",
   "mimetype": "text/x-python",
   "name": "python",
   "nbconvert_exporter": "python",
   "pygments_lexer": "ipython3",
   "version": "3.6.7"
  }
 },
 "nbformat": 4,
 "nbformat_minor": 2
}
