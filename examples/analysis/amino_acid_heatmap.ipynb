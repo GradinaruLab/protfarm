{
 "cells": [
  {
   "cell_type": "markdown",
   "metadata": {},
   "source": [
    "### Analyzing amino acid distributions\n",
    "\n",
    "This notebook assumes that you have initialized the workspace in the workspace/workspace_initialization example and aligned the data in the alignment/alignment.ipynb notebook."
   ]
  },
  {
   "cell_type": "code",
   "execution_count": null,
   "metadata": {},
   "outputs": [],
   "source": [
    "import os\n",
    "from scipy import stats\n",
    "import pandas\n",
    "\n",
    "from pepars.analysis import statistics as virus_stats\n",
    "from pepars.analysis import amino_acids as AA_analysis\n",
    "from pepars.plotting import plotting\n",
    "from pepars.plotting import DNA as DNA_plotting\n",
    "plotting.init_notebook_mode()\n",
    "\n",
    "from protfarm.analysis.Analysis_Set import Analysis_Set\n",
    "from protfarm.workspace import Database as db\n",
    "from protfarm.workspace import Workspace as ws\n",
    "from protfarm.analysis.Sequence_Library import Sequence_Library"
   ]
  },
  {
   "cell_type": "code",
   "execution_count": null,
   "metadata": {},
   "outputs": [],
   "source": [
    "# The data path represents the location of all protein engineering sequencing experiments\n",
    "DATA_PATH = os.path.join(\"..\", \"example_data\")\n",
    "\n",
    "# Each experiment is given its own name and subdirectory in the DATA PATH\n",
    "# An experiment is a group of samples, all using the same variant region\n",
    "EXPERIMENT_NAME = \"demo\"\n",
    "\n",
    "# Choose the sample name to visualize\n",
    "SAMPLE_NAME = \"sample_1\"\n",
    "\n",
    "# Remove sequences below this count threshold\n",
    "COUNT_THRESHOLD = 1"
   ]
  },
  {
   "cell_type": "code",
   "execution_count": null,
   "metadata": {},
   "outputs": [],
   "source": [
    "ws.set_data_path(DATA_PATH)\n",
    "ws.set_experiment(EXPERIMENT_NAME)\n",
    "ws.set_active_alignment(db.get_alignments()[0])\n",
    "sample = db.get_library(SAMPLE_NAME)\n",
    "template = db.get_template_by_id(ws.get_active_alignment().library_templates[sample.id])"
   ]
  },
  {
   "cell_type": "code",
   "execution_count": null,
   "metadata": {},
   "outputs": [],
   "source": [
    "# Get the sequence counts for the requested sample\n",
    "sequence_reads = Sequence_Library(sample)\n",
    "sequence_counts = sequence_reads.get_sequence_counts(by_amino_acid=True, count_threshold=COUNT_THRESHOLD, filter_invalid=True)"
   ]
  },
  {
   "cell_type": "code",
   "execution_count": null,
   "metadata": {},
   "outputs": [],
   "source": [
    "# Plot the amino acid biases as a log2 fold change over the exptected value, given this sample's template\n",
    "DNA_plotting.plot_amino_acid_bias(\n",
    "    sequence_counts,\n",
    "    template.get_variant_template(),\n",
    "    sample_name=sample.name,\n",
    "    interactive=True)"
   ]
  },
  {
   "cell_type": "code",
   "execution_count": null,
   "metadata": {},
   "outputs": [],
   "source": [
    "# An alternative way to look at these distributions is based on their z-score. First we convert to Pandas\n",
    "sequence_counts = pandas.DataFrame.from_dict(sequence_counts, orient=\"index\")\n",
    "\n",
    "# Now we get the number of sequences of each amino acid at each position (this ignores counts)\n",
    "amino_acid_counts_by_position = AA_analysis.get_amino_acid_counts_by_position(sequence_counts.index)\n",
    "\n",
    "# We get the expected biases, based on our template\n",
    "amino_acid_biases = AA_analysis.get_amino_acid_codon_biases([template.get_variant_template()])"
   ]
  },
  {
   "cell_type": "code",
   "execution_count": null,
   "metadata": {
    "scrolled": true
   },
   "outputs": [],
   "source": [
    "# Calculate the Z score, based on the given test type\n",
    "p_values, z_scores = virus_stats.get_significance_of_amino_acid_ratios(\n",
    "    amino_acid_counts_by_position,\n",
    "    amino_acid_biases,\n",
    "    multiple_comparison_correction=True,\n",
    "    test_type=virus_stats.Test_Type.STANDARDIZATION)"
   ]
  },
  {
   "cell_type": "code",
   "execution_count": null,
   "metadata": {},
   "outputs": [],
   "source": [
    "# Plot the z scores\n",
    "plotting.plot_significance_z_scores(z_scores, interactive=True)"
   ]
  },
  {
   "cell_type": "code",
   "execution_count": null,
   "metadata": {},
   "outputs": [],
   "source": []
  }
 ],
 "metadata": {
  "kernelspec": {
   "display_name": "Python 3",
   "language": "python",
   "name": "python3"
  },
  "language_info": {
   "codemirror_mode": {
    "name": "ipython",
    "version": 3
   },
   "file_extension": ".py",
   "mimetype": "text/x-python",
   "name": "python",
   "nbconvert_exporter": "python",
   "pygments_lexer": "ipython3",
   "version": "3.6.7"
  }
 },
 "nbformat": 4,
 "nbformat_minor": 2
}
