{
 "cells": [
  {
   "cell_type": "markdown",
   "metadata": {},
   "source": [
    "An example of exporting sequence count and enrichment data from an alignment. This example assumes the workspace has been initialized in [workspace_initialization.ipynb](../workspace/workspace_initialization.ipynb) and the data has been aligned with [alignment.ipynb](../alignment/alignment.ipynb)"
   ]
  },
  {
   "cell_type": "code",
   "execution_count": null,
   "metadata": {},
   "outputs": [],
   "source": [
    "import os\n",
    "\n",
    "from protfarm.workspace import Workspace as ws\n",
    "from protfarm.workspace import Database as db\n",
    "from protfarm.workspace.Library import Library\n",
    "from protfarm.workspace.Template import Template\n",
    "from protfarm.workspace.Alignment import Alignment\n",
    "from protfarm.analysis.Analysis_Set import Analysis_Set"
   ]
  },
  {
   "cell_type": "code",
   "execution_count": null,
   "metadata": {},
   "outputs": [],
   "source": [
    "# The data path represents the location of all protein engineering sequencing experiments\n",
    "DATA_PATH = os.path.join(\"..\", \"example_data\")\n",
    "\n",
    "# Each experiment is given its own name and subdirectory in the DATA PATH\n",
    "# An experiment is a group of samples, all using the same variant region\n",
    "EXPERIMENT_NAME = \"demo\"\n",
    "\n",
    "STARTING_SAMPLE_NAME = \"sample_1\"\n",
    "ENRICHED_SAMPLE_NAME = \"sample_2\"\n",
    "\n",
    "COLLAPSE_SIMILAR_SEQUENCES = False\n",
    "\n",
    "EXPORT_FILE_NAME = \"example_enrichment.csv\"\n",
    "\n",
    "COUNT_THRESHOLD = 0"
   ]
  },
  {
   "cell_type": "code",
   "execution_count": null,
   "metadata": {},
   "outputs": [],
   "source": [
    "# Set the data and experiment path\n",
    "ws.set_data_path(DATA_PATH)\n",
    "ws.set_experiment(EXPERIMENT_NAME)\n",
    "\n",
    "# Set the active alignment that we want to use (default to first and only one)\n",
    "alignment = db.get_alignment_by_id(1)\n",
    "ws.set_active_alignment(alignment)"
   ]
  },
  {
   "cell_type": "code",
   "execution_count": null,
   "metadata": {},
   "outputs": [],
   "source": [
    "# Now we create an Analysis Set - this is a set of samples used for analysis\n",
    "analysis_set = Analysis_Set()\n",
    "\n",
    "analysis_set.add_sample(STARTING_SAMPLE_NAME)\n",
    "analysis_set.add_sample(ENRICHED_SAMPLE_NAME)"
   ]
  },
  {
   "cell_type": "code",
   "execution_count": null,
   "metadata": {},
   "outputs": [],
   "source": [
    "if COLLAPSE_SIMILAR_SEQUENCES:\n",
    "    for sequence_library_name, sequence_library in analysis_set.get_libraries().items():\n",
    "        sequence_library.collapse_sequence_counts()"
   ]
  },
  {
   "cell_type": "code",
   "execution_count": null,
   "metadata": {},
   "outputs": [],
   "source": [
    "# This calculates the enrichment of each sample with respect to the starting sample, and exports it to a file\n",
    "analysis_set.export_enrichment_specificity(\n",
    "    EXPORT_FILE_NAME,\n",
    "    STARTING_SAMPLE_NAME,\n",
    "    libraries_to_compare_names=None,\n",
    "    count_threshold=COUNT_THRESHOLD)"
   ]
  },
  {
   "cell_type": "code",
   "execution_count": null,
   "metadata": {},
   "outputs": [],
   "source": []
  }
 ],
 "metadata": {
  "kernelspec": {
   "display_name": "Python 3",
   "language": "python",
   "name": "python3"
  },
  "language_info": {
   "codemirror_mode": {
    "name": "ipython",
    "version": 3
   },
   "file_extension": ".py",
   "mimetype": "text/x-python",
   "name": "python",
   "nbconvert_exporter": "python",
   "pygments_lexer": "ipython3",
   "version": "3.6.7"
  }
 },
 "nbformat": 4,
 "nbformat_minor": 2
}
