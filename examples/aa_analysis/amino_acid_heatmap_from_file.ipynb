{
 "cells": [
  {
   "cell_type": "code",
   "execution_count": null,
   "metadata": {},
   "outputs": [],
   "source": [
    "import sys\n",
    "sys.path.append(\"..\")\n",
    "\n",
    "import pandas as pd\n",
    "from utils import DNA\n",
    "\n",
    "from analysis import amino_acids as AA_analysis\n",
    "from analysis import statistics as virus_stats\n",
    "from analysis import plotting as virus_plotting\n",
    "\n",
    "from plotly import offline as plotly_offline\n",
    "plotly_offline.init_notebook_mode(connected=True)"
   ]
  },
  {
   "cell_type": "code",
   "execution_count": null,
   "metadata": {},
   "outputs": [],
   "source": [
    "num_sequences = 1000\n",
    "file = \"oligolist_588lib2_11mer.xlsx\"    #set your file name\n",
    "df = pd.read_excel(file)"
   ]
  },
  {
   "cell_type": "code",
   "execution_count": null,
   "metadata": {},
   "outputs": [],
   "source": [
    "sequences = df[\"Aminoacid\"][0:num_sequences-1].values"
   ]
  },
  {
   "cell_type": "code",
   "execution_count": null,
   "metadata": {},
   "outputs": [],
   "source": [
    "amino_acid_counts = AA_analysis.get_amino_acid_counts_by_position(sequences)\n",
    "display(amino_acid_counts)"
   ]
  },
  {
   "cell_type": "code",
   "execution_count": null,
   "metadata": {},
   "outputs": [],
   "source": [
    "amino_acid_biases = AA_analysis.get_amino_acid_codon_biases([\"NNKNNKNNKNNKNNKNNKNNK\"])"
   ]
  },
  {
   "cell_type": "code",
   "execution_count": null,
   "metadata": {},
   "outputs": [],
   "source": [
    "p_values, z_scores = virus_stats.get_significance_of_amino_acid_ratios(\n",
    "    amino_acid_counts,\n",
    "    amino_acid_biases,\n",
    "    test_type=virus_stats.Test_Type.STANDARDIZATION)\n",
    "virus_plotting.plot_significance_z_scores(z_scores.drop(\"#\"), interactive=True)"
   ]
  },
  {
   "cell_type": "code",
   "execution_count": null,
   "metadata": {},
   "outputs": [],
   "source": [
    "p_values, z_scores = virus_stats.get_significance_of_amino_acid_ratios(\n",
    "    amino_acid_counts,\n",
    "    amino_acid_biases,\n",
    "    test_type=virus_stats.Test_Type.BINOMIAL_NORMAL_APPROXIMATION)\n",
    "virus_plotting.plot_significance_z_scores(z_scores.drop(\"#\"), interactive=True)"
   ]
  }
 ],
 "metadata": {
  "kernelspec": {
   "display_name": "Python 3",
   "language": "python",
   "name": "python3"
  },
  "language_info": {
   "codemirror_mode": {
    "name": "ipython",
    "version": 3
   },
   "file_extension": ".py",
   "mimetype": "text/x-python",
   "name": "python",
   "nbconvert_exporter": "python",
   "pygments_lexer": "ipython3",
   "version": "3.6.5"
  }
 },
 "nbformat": 4,
 "nbformat_minor": 2
}
