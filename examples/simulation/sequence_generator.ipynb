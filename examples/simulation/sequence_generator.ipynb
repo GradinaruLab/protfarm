{
 "cells": [
  {
   "cell_type": "code",
   "execution_count": null,
   "metadata": {},
   "outputs": [],
   "source": [
    "import sys\n",
    "sys.path.append(\"..\")\n",
    "\n",
    "from workspace import Workspace as ws\n",
    "from workspace import Database as db\n",
    "\n",
    "from utils import simulation\n",
    "from fileio import sequence_data_parsing"
   ]
  },
  {
   "cell_type": "code",
   "execution_count": null,
   "metadata": {},
   "outputs": [],
   "source": [
    "WORKSPACE_PATH = \"/media/dibidave/mobinoodle/AAV_libraries/20171220_Nick\"\n",
    "ALIGNMENT_INDEX = 0\n",
    "NUM_SEQUENCES = 1000000\n",
    "OUTPUT_FILE_NAME = \"theoretical_sequences.csv\""
   ]
  },
  {
   "cell_type": "code",
   "execution_count": null,
   "metadata": {},
   "outputs": [],
   "source": [
    "# Get the variant sequence used for this alignment - assumes all templates in an alignment have same variant template\n",
    "ws.set_workspace_path(WORKSPACE_PATH)\n",
    "alignment = db.get_alignments()[ALIGNMENT_INDEX]\n",
    "random_library = next(iter(alignment.library_templates.values()))\n",
    "template_id = alignment.library_templates[random_library]\n",
    "template = db.get_template_by_id(template_id)\n",
    "variant_sequence = template.get_variant_template()\n",
    "\n"
   ]
  },
  {
   "cell_type": "code",
   "execution_count": null,
   "metadata": {},
   "outputs": [],
   "source": [
    "random_sequences = simulation.generate_random_sequences(variant_sequence, NUM_SEQUENCES)"
   ]
  },
  {
   "cell_type": "code",
   "execution_count": null,
   "metadata": {},
   "outputs": [],
   "source": [
    "sequence_data_parsing.write_sequences_to_file(random_sequences, ws.get_export_path(OUTPUT_FILE_NAME))"
   ]
  }
 ],
 "metadata": {
  "kernelspec": {
   "display_name": "Python 3",
   "language": "python",
   "name": "python3"
  },
  "language_info": {
   "codemirror_mode": {
    "name": "ipython",
    "version": 3
   },
   "file_extension": ".py",
   "mimetype": "text/x-python",
   "name": "python",
   "nbconvert_exporter": "python",
   "pygments_lexer": "ipython3",
   "version": "3.6.3"
  }
 },
 "nbformat": 4,
 "nbformat_minor": 2
}
