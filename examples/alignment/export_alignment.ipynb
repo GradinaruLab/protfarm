{
 "cells": [
  {
   "cell_type": "markdown",
   "metadata": {},
   "source": [
    "An example of exporting sequence count data from an alignment. This example assumes the workspace has been initialized in [workspace_initialization.ipynb](../workspace/workspace_initialization.ipynb) and the data has been aligned with [alignment.ipynb](../alignment/alignment.ipynb)"
   ]
  },
  {
   "cell_type": "code",
   "execution_count": null,
   "metadata": {},
   "outputs": [],
   "source": [
    "import os\n",
    "\n",
    "from protfarm.workspace import Workspace as ws\n",
    "from protfarm.workspace import Database as db\n",
    "from protfarm.workspace.Library import Library\n",
    "from protfarm.workspace.Template import Template\n",
    "from protfarm.workspace.Alignment import Alignment\n",
    "from protfarm.analysis.Sequence_Library import Sequence_Library"
   ]
  },
  {
   "cell_type": "code",
   "execution_count": null,
   "metadata": {},
   "outputs": [],
   "source": [
    "# The data path represents the location of all protein engineering sequencing experiments\n",
    "DATA_PATH = os.path.join(\"..\", \"example_data\")\n",
    "\n",
    "# Each experiment is given its own name and subdirectory in the DATA PATH\n",
    "# An experiment is a group of samples, all using the same variant region\n",
    "EXPERIMENT_NAME = \"demo\"\n",
    "\n",
    "SAMPLE_NAME = \"sample_2\"\n",
    "\n",
    "COLLAPSE_SIMILAR_SEQUENCES = True\n",
    "\n",
    "EXPORT_FILE_NAME = \"sample_2_counts.csv\"\n",
    "\n",
    "COUNT_THRESHOLD = 0"
   ]
  },
  {
   "cell_type": "code",
   "execution_count": null,
   "metadata": {},
   "outputs": [],
   "source": [
    "# Set the data and experiment path\n",
    "ws.set_data_path(DATA_PATH)\n",
    "ws.set_experiment(EXPERIMENT_NAME)\n",
    "\n",
    "# Set the active alignment that we want to use (default to first and only one)\n",
    "alignment = db.get_alignment_by_id(1)\n",
    "ws.set_active_alignment(alignment)"
   ]
  },
  {
   "cell_type": "code",
   "execution_count": null,
   "metadata": {},
   "outputs": [],
   "source": [
    "sequence_library = Sequence_Library(SAMPLE_NAME)"
   ]
  },
  {
   "cell_type": "code",
   "execution_count": null,
   "metadata": {},
   "outputs": [],
   "source": [
    "if COLLAPSE_SIMILAR_SEQUENCES:\n",
    "    sequence_library.collapse_sequence_counts()"
   ]
  },
  {
   "cell_type": "code",
   "execution_count": null,
   "metadata": {},
   "outputs": [],
   "source": [
    "sequence_library.export_sequence_counts(EXPORT_FILE_NAME, count_threshold=COUNT_THRESHOLD, by_amino_acid=True)"
   ]
  },
  {
   "cell_type": "code",
   "execution_count": null,
   "metadata": {},
   "outputs": [],
   "source": []
  }
 ],
 "metadata": {
  "kernelspec": {
   "display_name": "Python 3",
   "language": "python",
   "name": "python3"
  },
  "language_info": {
   "codemirror_mode": {
    "name": "ipython",
    "version": 3
   },
   "file_extension": ".py",
   "mimetype": "text/x-python",
   "name": "python",
   "nbconvert_exporter": "python",
   "pygments_lexer": "ipython3",
   "version": "3.6.7"
  }
 },
 "nbformat": 4,
 "nbformat_minor": 2
}
